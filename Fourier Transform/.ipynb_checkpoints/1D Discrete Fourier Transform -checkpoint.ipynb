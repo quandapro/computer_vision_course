{
 "cells": [
  {
   "cell_type": "code",
   "execution_count": 1,
   "metadata": {},
   "outputs": [],
   "source": [
    "import numpy as np"
   ]
  },
  {
   "cell_type": "code",
   "execution_count": 2,
   "metadata": {},
   "outputs": [],
   "source": [
    "x = np.asarray([2, 3, -1, 1], dtype='float')\n",
    "pi = np.pi"
   ]
  },
  {
   "cell_type": "code",
   "execution_count": 3,
   "metadata": {},
   "outputs": [],
   "source": [
    "def DFT(x):\n",
    "    '''\n",
    "    Compute discrete fourier transform of an vector x\n",
    "    '''\n",
    "    X = np.zeros(x.shape, dtype='complex')\n",
    "    N = x.shape[0]\n",
    "    for r in range(N):\n",
    "        for k in range(N):\n",
    "            X[r] += x[k] * np.exp(-2j * pi * k * r / N)\n",
    "    return X\n",
    "\n",
    "def iDFT(X):\n",
    "    '''\n",
    "    Compute inverse discrete fourier transform of an vector X\n",
    "    '''\n",
    "    x = np.zeros(X.shape, dtype='complex')\n",
    "    N = X.shape[0]\n",
    "    for k in range(N):\n",
    "        for r in range(N):\n",
    "            x[k] += X[r] * np.exp(2j * pi * r * k / N)\n",
    "        x[k] = x[k] / N\n",
    "    return x"
   ]
  },
  {
   "cell_type": "code",
   "execution_count": 4,
   "metadata": {},
   "outputs": [
    {
     "name": "stdout",
     "output_type": "stream",
     "text": [
      "[ 5.+0.00000000e+00j  3.-2.00000000e+00j -3.-9.79717439e-16j\n",
      "  3.+2.00000000e+00j]\n",
      "[ 2.-1.11022302e-16j  3.+0.00000000e+00j -1.+1.66533454e-16j\n",
      "  1.+3.33066907e-16j]\n"
     ]
    }
   ],
   "source": [
    "# DFT\n",
    "X = DFT(x)\n",
    "print(X)\n",
    "\n",
    "#iDFT\n",
    "x = iDFT(X)\n",
    "print(x)"
   ]
  },
  {
   "cell_type": "code",
   "execution_count": null,
   "metadata": {},
   "outputs": [],
   "source": []
  }
 ],
 "metadata": {
  "kernelspec": {
   "display_name": "Python 3",
   "language": "python",
   "name": "python3"
  },
  "language_info": {
   "codemirror_mode": {
    "name": "ipython",
    "version": 3
   },
   "file_extension": ".py",
   "mimetype": "text/x-python",
   "name": "python",
   "nbconvert_exporter": "python",
   "pygments_lexer": "ipython3",
   "version": "3.7.4"
  }
 },
 "nbformat": 4,
 "nbformat_minor": 2
}
